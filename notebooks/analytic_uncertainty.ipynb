{
 "cells": [
  {
   "cell_type": "code",
   "execution_count": 1,
   "metadata": {},
   "outputs": [],
   "source": [
    "import numpy as np\n",
    "import matplotlib.pyplot as pl\n",
    "%matplotlib inline "
   ]
  },
  {
   "cell_type": "code",
   "execution_count": 2,
   "metadata": {},
   "outputs": [],
   "source": [
    "import sympy as sm"
   ]
  },
  {
   "cell_type": "code",
   "execution_count": 3,
   "metadata": {},
   "outputs": [],
   "source": [
    "s0, w0, d = sm.symbols('s0 w0 d', positive=True, real=True)\n",
    "ti, tj, dt, t, tp = sm.symbols('ti, tj, dt, t, tp', real=True)\n",
    "tau = sm.symbols('tau', real=True, positive=True)\n",
    "efp = sm.exp(-w0 * (t - tp) / sm.sqrt(2))\n",
    "efm = sm.exp(-w0 * (tp - t) / sm.sqrt(2))\n",
    "kernp = s0 * w0 * efp * sm.cos(w0 * (t-tp) / sm.sqrt(2) - sm.pi / 4)\n",
    "kernm = s0 * w0 * efm * sm.cos(w0 * (tp-t) / sm.sqrt(2) - sm.pi / 4)"
   ]
  },
  {
   "cell_type": "code",
   "execution_count": 4,
   "metadata": {},
   "outputs": [],
   "source": [
    "k1 = sm.simplify(\n",
    "    sm.integrate(\n",
    "        sm.integrate(kernp, (tp, tj - d / 2, tj + d / 2)), (t, tj + d / 2, ti + d / 2)\n",
    "    )\n",
    "    / d ** 2\n",
    ")\n",
    "k2 = sm.simplify(\n",
    "    sm.integrate(sm.integrate(kernp, (tp, tj - d / 2, t)), (t, ti - d / 2, tj + d / 2))\n",
    "    / d ** 2\n",
    ")\n",
    "k3 = sm.simplify(\n",
    "    sm.integrate(sm.integrate(kernm, (tp, t, tj + d / 2)), (t, ti - d / 2, tj + d / 2))\n",
    "    / d ** 2\n",
    ")"
   ]
  },
  {
   "cell_type": "code",
   "execution_count": 5,
   "metadata": {},
   "outputs": [
    {
     "data": {
      "text/latex": [
       "$\\displaystyle \\frac{2 s_{0}}{d} - \\frac{2 s_{0} \\tau}{d^{2}} + \\frac{s_{0} e^{- \\frac{\\sqrt{2} d w_{0}}{2} - \\frac{\\sqrt{2} \\tau w_{0}}{2}} \\cos{\\left(\\frac{\\sqrt{2} d w_{0}}{2} + \\frac{\\sqrt{2} \\tau w_{0}}{2} + \\frac{\\pi}{4} \\right)}}{d^{2} w_{0}} + \\frac{s_{0} e^{- \\frac{\\sqrt{2} d w_{0}}{2} + \\frac{\\sqrt{2} \\tau w_{0}}{2}} \\cos{\\left(\\frac{\\sqrt{2} d w_{0}}{2} - \\frac{\\sqrt{2} \\tau w_{0}}{2} + \\frac{\\pi}{4} \\right)}}{d^{2} w_{0}} - \\frac{2 s_{0} e^{- \\frac{\\sqrt{2} \\tau w_{0}}{2}} \\cos{\\left(\\frac{\\sqrt{2} \\tau w_{0}}{2} + \\frac{\\pi}{4} \\right)}}{d^{2} w_{0}}$"
      ],
      "text/plain": [
       "2*s0/d - 2*s0*tau/d**2 + s0*exp(-sqrt(2)*d*w0/2 - sqrt(2)*tau*w0/2)*cos(sqrt(2)*d*w0/2 + sqrt(2)*tau*w0/2 + pi/4)/(d**2*w0) + s0*exp(-sqrt(2)*d*w0/2 + sqrt(2)*tau*w0/2)*cos(sqrt(2)*d*w0/2 - sqrt(2)*tau*w0/2 + pi/4)/(d**2*w0) - 2*s0*exp(-sqrt(2)*tau*w0/2)*cos(sqrt(2)*tau*w0/2 + pi/4)/(d**2*w0)"
      ]
     },
     "execution_count": 5,
     "metadata": {},
     "output_type": "execute_result"
    }
   ],
   "source": [
    "kD = sm.simplify((k1 + k2 + k3).expand())\n",
    "res = sm.simplify(kD.subs([(ti, tau + tj)]))\n",
    "res"
   ]
  },
  {
   "cell_type": "code",
   "execution_count": 6,
   "metadata": {},
   "outputs": [
    {
     "data": {
      "text/latex": [
       "$\\displaystyle \\frac{\\sqrt{2} s_{0}}{2 d^{2} w_{0}} + \\frac{s_{0} e^{- \\sqrt{2} d w_{0}} \\cos{\\left(\\sqrt{2} d w_{0} + \\frac{\\pi}{4} \\right)}}{d^{2} w_{0}} - \\frac{2 s_{0} e^{- \\frac{\\sqrt{2} d w_{0}}{2}} \\cos{\\left(\\frac{\\sqrt{2} d w_{0}}{2} + \\frac{\\pi}{4} \\right)}}{d^{2} w_{0}}$"
      ],
      "text/plain": [
       "sqrt(2)*s0/(2*d**2*w0) + s0*exp(-sqrt(2)*d*w0)*cos(sqrt(2)*d*w0 + pi/4)/(d**2*w0) - 2*s0*exp(-sqrt(2)*d*w0/2)*cos(sqrt(2)*d*w0/2 + pi/4)/(d**2*w0)"
      ]
     },
     "execution_count": 6,
     "metadata": {},
     "output_type": "execute_result"
    }
   ],
   "source": [
    "resd = sm.simplify(res.subs([(tau, d)]))\n",
    "resd"
   ]
  },
  {
   "cell_type": "code",
   "execution_count": 7,
   "metadata": {},
   "outputs": [],
   "source": [
    "def var(w0, d):\n",
    "    e1 = np.sqrt(2) * d * w0\n",
    "    f1 = 1 / (d * d * w0 * np.sqrt(2))\n",
    "    f2 = 1 * np.exp(-e1) * np.cos(e1 + np.pi / 4) / (d * d * w0)\n",
    "    f3 = 2  * np.exp(-e1) *np.cos(e1/2 + np.pi / 4) / (d * d * w0)\n",
    "    return f1 + f2 - f3  \n",
    "\n",
    "def mvar(s0, w0, d, alpha, sigma):\n",
    "    alpha = s0 * alpha[:, None] * np.sqrt(var(w0, d))\n",
    "    sum = np.sum(alpha, axis=0)\n",
    "    sum2 = np.sum(alpha**2, axis=0)\n",
    "    num = sigma * sigma + sum2\n",
    "    denom = len(alpha) * (1 + sum2 / (sigma * sigma)) - (sum / sigma) ** 2\n",
    "    return num / denom\n",
    "\n",
    "def var1(s0, w0, d, alpha, sigma):\n",
    "    alpha = s0 * alpha[:, None] * np.sqrt(var(w0, d))\n",
    "    sum = np.sum(alpha, axis=0)\n",
    "    return sigma * sigma / len(alpha) + (sum / len(alpha))**2"
   ]
  },
  {
   "cell_type": "code",
   "execution_count": 8,
   "metadata": {},
   "outputs": [
    {
     "data": {
      "text/plain": [
       "[<matplotlib.lines.Line2D at 0x117d97880>]"
      ]
     },
     "execution_count": 8,
     "metadata": {},
     "output_type": "execute_result"
    },
    {
     "data": {
      "image/png": "[encoded data removed]",
      "text/plain": [
       "<Figure size 432x288 with 1 Axes>"
      ]
     },
     "metadata": {
      "needs_background": "light"
     },
     "output_type": "display_data"
    }
   ],
   "source": [
    "s0 = np.linspace(0, 100, 1000)\n",
    "w0 = 0.001\n",
    "alpha = np.linspace(1, 2, 3)\n",
    "sigma = 0.1 * np.sqrt(3)\n",
    "d = 2 * np.pi / w0\n",
    "pl.plot(s0, mvar(s0, w0, d, alpha, sigma))\n",
    "pl.plot(s0, var1(s0, w0, d, alpha, sigma))"
   ]
  },
  {
   "cell_type": "code",
   "execution_count": null,
   "metadata": {},
   "outputs": [],
   "source": []
  }
 ],
 "metadata": {
  "kernelspec": {
   "display_name": "Python 3",
   "language": "python",
   "name": "python3"
  },
  "language_info": {
   "codemirror_mode": {
    "name": "ipython",
    "version": 3
   },
   "file_extension": ".py",
   "mimetype": "text/x-python",
   "name": "python",
   "nbconvert_exporter": "python",
   "pygments_lexer": "ipython3",
   "version": "3.8.6"
  }
 },
 "nbformat": 4,
 "nbformat_minor": 4
}

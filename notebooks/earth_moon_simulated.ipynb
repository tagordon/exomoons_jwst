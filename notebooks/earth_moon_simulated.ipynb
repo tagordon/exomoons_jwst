{
 "cells": [
  {
   "cell_type": "code",
   "execution_count": 1,
   "metadata": {},
   "outputs": [],
   "source": [
    "import numpy as np\n",
    "import matplotlib.pyplot as pl\n",
    "%matplotlib inline\n",
    "\n",
    "import theano.tensor as tt\n",
    "import pymc3 as pm\n",
    "\n",
    "import exoplanet as xo\n",
    "from specgp.terms import KronTerm\n",
    "from specgp.means import KronMean\n",
    "from specgp.distributions import MvUniform"
   ]
  },
  {
   "cell_type": "markdown",
   "metadata": {},
   "source": [
    "Start by loading the traces from our MCMC analysis of the SOHO data:"
   ]
  },
  {
   "cell_type": "code",
   "execution_count": 2,
   "metadata": {},
   "outputs": [],
   "source": [
    "with pm.Model() as model:\n",
    "    trace = pm.load_trace('traces/.pymc_3.trace')\n",
    "    mu, sig = {}, {}\n",
    "    for k, v in trace[0].items():\n",
    "        vals = trace.get_values(k)\n",
    "        mu[k] = np.mean(vals, axis=0)\n",
    "        sig[k] = np.std(vals, axis=0)"
   ]
  },
  {
   "cell_type": "markdown",
   "metadata": {},
   "source": [
    "We'll use these values to simulate sun-like light curves:"
   ]
  },
  {
   "cell_type": "code",
   "execution_count": 3,
   "metadata": {},
   "outputs": [],
   "source": [
    "term1 = xo.gp.terms.SHOTerm(log_S0=mu[\"logS0\"][0], \n",
    "                            log_w0=mu[\"logw\"][0], \n",
    "                            log_Q=-np.log(np.sqrt(2))\n",
    "                            )\n",
    "term2 = xo.gp.terms.SHOTerm(log_S0=mu[\"logS0\"][1], \n",
    "                            log_w0=mu[\"logw\"][1], \n",
    "                            log_Q=mu[\"logQ\"]\n",
    "                            )\n",
    "alpha1 = np.exp([0, mu[\"alpha1\"][0], mu[\"alpha2\"][0]])\n",
    "alpha2 = np.exp([0, mu[\"alpha1\"][1], mu[\"alpha2\"][1]])\n",
    "kernel = (KronTerm(term1, alpha=alpha1) + \n",
    "          KronTerm(term2, alpha=alpha2))\n",
    "\n",
    "t = np.linspace(-1, 1, 1000)\n",
    "logsig = np.array([-4]*3)\n",
    "diag = np.exp(2*logsig)[:, None] * np.ones((3, len(t)))\n",
    "mean = mu[\"mean\"][:, None] * np.ones_like(t)\n",
    "gp = xo.gp.GP(x=t, kernel=kernel, diag=diag, mean=KronMean(mean), J=4)"
   ]
  },
  {
   "cell_type": "markdown",
   "metadata": {},
   "source": [
    "generate and plot simulated data!"
   ]
  },
  {
   "cell_type": "code",
   "execution_count": null,
   "metadata": {},
   "outputs": [],
   "source": [
    "n = np.random.randn(3*len(t), 1)\n",
    "y = gp.dot_l(n).eval()\n",
    "r, g, b = [y[i::3] for i in range(3)]\n",
    "\n",
    "colors = ['#FE4365', '#3F9778', '#00A9FF', '#ECA25C', '#005D7F']\n",
    "pl.plot(t, r, '-', color=colors[0])\n",
    "pl.plot(t, g + 1, '-', color=colors[1])\n",
    "pl.plot(t, b + 2, '-', color=colors[2])"
   ]
  },
  {
   "cell_type": "markdown",
   "metadata": {},
   "source": [
    "Add a transit with ``starry``:"
   ]
  },
  {
   "cell_type": "code",
   "execution_count": null,
   "metadata": {},
   "outputs": [],
   "source": [
    "orbit = xo.orbits.KeplerianOrbit(period=5.0)\n",
    "u = [0.3, 0.2]\n",
    "planet = (\n",
    "    xo.LimbDarkLightCurve(u)\n",
    "    .get_light_curve(orbit=orbit, r=0.009, t=t, texp=0.02)\n",
    "    .eval()\n",
    ") * 1e3\n",
    "moon = (\n",
    "    xo.LimbDarkLightCurve(u)\n",
    "    .get_light_curve(orbit=orbit, r=0.002, t=t+0.25, texp=0.02)\n",
    "    .eval()\n",
    ") * 1e3"
   ]
  },
  {
   "cell_type": "code",
   "execution_count": null,
   "metadata": {},
   "outputs": [],
   "source": [
    "fig, ax = pl.subplots(1, 2, figsize=(15, 5))\n",
    "\n",
    "ax[0].plot(t, r + planet + moon, '-', color=colors[0])\n",
    "ax[0].plot(t, g+1 + planet + moon, '-', color=colors[1])\n",
    "ax[0].plot(t, b+2 + planet + moon, '-', color=colors[2])\n",
    "ax[0].set_ylim(-1, 3)\n",
    "\n",
    "ax[1].plot(t, np.mean([r, g, b], axis=0)+1 + planet, '-', color='k')\n",
    "ax[1].set_ylim(-1, 3)\n",
    "\n",
    "[x.set_ylabel('flux') for x in ax]\n",
    "[x.set_xlabel('time (days)') for x in ax]"
   ]
  },
  {
   "cell_type": "markdown",
   "metadata": {},
   "source": [
    "Let's do inference on each of these separately and see how the results compare. First, the multiband light curve: "
   ]
  },
  {
   "cell_type": "code",
   "execution_count": null,
   "metadata": {},
   "outputs": [],
   "source": [
    "mean = (planet + moon)\n",
    "mean = np.tile(mean, (1, 3))\n",
    "mean = np.reshape(mean, (3*len(t), 1))\n",
    "obs = y + mean\n",
    "\n",
    "with pm.Model() as model:\n",
    "    \n",
    "    logS0 = pm.MvNormal(\"logS0\", mu=mu[\"logS0\"], \n",
    "                        chol=np.diag(sig[\"logS0\"]), shape=2)\n",
    "    logw = pm.MvNormal(\"logw\", mu=mu[\"logw\"], \n",
    "                       chol=np.diag(sig[\"logw\"]), shape=2)\n",
    "    logQ = pm.Normal(\"logQ\", mu=mu[\"logQ\"], sd=sig[\"logQ\"])\n",
    "    alpha1 =  pm.MvNormal(\"alpha1\", mu=mu[\"alpha1\"], \n",
    "                          chol=np.diag(sig[\"alpha1\"]), shape=2)\n",
    "    alpha2 =  pm.MvNormal(\"alpha2\", mu=mu[\"alpha2\"], \n",
    "                          chol=np.diag(sig[\"alpha2\"]), shape=2)\n",
    "    logsig = pm.MvNormal(\"logsig\", mu=mu[\"logsig\"], \n",
    "                         chol=np.diag(sig[\"logsig\"]), shape=3)\n",
    "    mean = pm.MvNormal(\"mean\", mu=mu[\"mean\"], \n",
    "                       chol=np.diag(sig[\"mean\"]), shape=3)\n",
    "    u = MvUniform(\"u\", lower=[0, 0], upper=[1, 1], testval=[0.5, 0.5])\n",
    "    logr = pm.Uniform(\"logr\", lower=-20.0, upper=0.0, testval=np.log(0.01))\n",
    "    t0 = pm.Uniform(\"t0\", lower=-1, upper=1, testval=0.0)\n",
    "    \n",
    "    orbit = xo.orbits.KeplerianOrbit(period=5.0)\n",
    "    lc = (xo.LimbDarkLightCurve(u)\n",
    "          .get_light_curve(orbit=orbit, r=tt.exp(logr), t=t-t0, texp=0.02)\n",
    "          *1e3)\n",
    "    mean = mean[:, None] + lc.T[0]\n",
    "    \n",
    "    term1 = xo.gp.terms.SHOTerm(\n",
    "        log_S0 = logS0[0],\n",
    "        log_w0 = logw[0],\n",
    "        log_Q = -np.log(np.sqrt(2))\n",
    "    )\n",
    "    term2 = xo.gp.terms.SHOTerm(\n",
    "        log_S0 = logS0[1],\n",
    "        log_w0 = logw[1],\n",
    "        log_Q = logQ\n",
    "    )\n",
    "        \n",
    "    a1 = tt.exp(tt.stack([0.0, alpha1[0], alpha2[0]]))\n",
    "    a2 = tt.exp(tt.stack([0.0, alpha1[1], alpha2[1]]))\n",
    "        \n",
    "    kernel = (KronTerm(term1, alpha=a1) + \n",
    "              KronTerm(term2, alpha=a2))\n",
    "        \n",
    "    yerr = tt.exp(2 * logsig)\n",
    "    yerr = yerr[:, None] * tt.ones(len(t))\n",
    "        \n",
    "    gp = xo.gp.GP(kernel, t, yerr, J=4, mean=KronMean(mean))\n",
    "    gp.marginal(\"gp\", observed = obs.T)\n",
    "        \n",
    "    start = model.test_point\n",
    "    start[\"logr\"] = np.log(0.01)\n",
    "    start[\"t0\"] = 0.0\n",
    "    #map_soln = xo.optimize(start=start, verbose=True)\n",
    "    #start = map_soln\n",
    "    \n",
    "    # comment this out if you don't want to run the mcmc right now.\n",
    "    trace3 = pm.sample(\n",
    "        tune=2000,\n",
    "        draws=2000,\n",
    "        start=start,\n",
    "        cores=2,\n",
    "        chains=2,\n",
    "        step=xo.get_dense_nuts_step(target_accept=0.9)\n",
    "    )"
   ]
  },
  {
   "cell_type": "code",
   "execution_count": null,
   "metadata": {},
   "outputs": [],
   "source": [
    "import corner\n",
    "samples = pm.trace_to_dataframe(trace3)\n",
    "_ = corner.corner(samples)"
   ]
  },
  {
   "cell_type": "code",
   "execution_count": null,
   "metadata": {},
   "outputs": [],
   "source": [
    "np.exp(-4.71)"
   ]
  },
  {
   "cell_type": "code",
   "execution_count": null,
   "metadata": {},
   "outputs": [],
   "source": [
    "mean = (planet + moon)\n",
    "obs = np.mean([r, g, b], axis=0) + mean\n",
    "\n",
    "with pm.Model() as model:\n",
    "    \n",
    "    logS0 = pm.MvNormal(\"logS0\", mu=mu[\"logS0\"], \n",
    "                        chol=np.diag(sig[\"logS0\"]), shape=2)\n",
    "    logw = pm.MvNormal(\"logw\", mu=mu[\"logw\"], \n",
    "                       chol=np.diag(sig[\"logw\"]), shape=2)\n",
    "    logQ = pm.Normal(\"logQ\", mu=mu[\"logQ\"], sd=sig[\"logQ\"])\n",
    "    logsig = pm.Normal(\"logsig\", mu=-4-np.log(3), sd=0.1)\n",
    "    mean = pm.Normal(\"mean\", mu=0.0, sd=0.1)\n",
    "    u = MvUniform(\"u\", lower=[0, 0], upper=[1, 1], testval=[0.5, 0.5])\n",
    "    logr = pm.Uniform(\"logr\", lower=-20.0, upper=0.0, testval=np.log(0.01))\n",
    "    t0 = pm.Uniform(\"t0\", lower=-1, upper=1, testval=0.0)\n",
    "    \n",
    "    orbit = xo.orbits.KeplerianOrbit(period=5.0)\n",
    "    mean = (xo.LimbDarkLightCurve(u)\n",
    "          .get_light_curve(orbit=orbit, r=tt.exp(logr), t=t-t0, texp=0.02)\n",
    "          * 1e3).T\n",
    "    \n",
    "    term1 = xo.gp.terms.SHOTerm(\n",
    "        log_S0 = logS0[0],\n",
    "        log_w0 = logw[0],\n",
    "        log_Q = -np.log(np.sqrt(2))\n",
    "    )\n",
    "    term2 = xo.gp.terms.SHOTerm(\n",
    "        log_S0 = logS0[1],\n",
    "        log_w0 = logw[1],\n",
    "        log_Q = logQ\n",
    "    )\n",
    "        \n",
    "    kernel = term1 + term2\n",
    "        \n",
    "    yerr = tt.exp(2 * logsig)\n",
    "    yerr = yerr * tt.ones(len(t))\n",
    "        \n",
    "    gp = xo.gp.GP(kernel, t, yerr, J=4, mean=mean)\n",
    "    gp.marginal(\"gp\", observed = obs.T)\n",
    "        \n",
    "    start = model.test_point\n",
    "    start[\"logr\"] = np.log(0.01)\n",
    "    start[\"t0\"] = 0.0\n",
    "    #map_soln = xo.optimize(start=start, verbose=True)\n",
    "    #start = map_soln\n",
    "    \n",
    "    # comment this out if you don't want to run the mcmc right now.\n",
    "    trace1 = pm.sample(\n",
    "        tune=2000,\n",
    "        draws=2000,\n",
    "        start=start,\n",
    "        cores=2,\n",
    "        chains=2,\n",
    "        step=xo.get_dense_nuts_step(target_accept=0.9)\n",
    "    )"
   ]
  },
  {
   "cell_type": "code",
   "execution_count": null,
   "metadata": {},
   "outputs": [],
   "source": [
    "samples = pm.trace_to_dataframe(trace1)\n",
    "_ = corner.corner(samples)"
   ]
  },
  {
   "cell_type": "code",
   "execution_count": null,
   "metadata": {},
   "outputs": [],
   "source": [
    "pl.hist(trace1.get_values('logr'), density=True, color=colors[0], \n",
    "        bins=20, histtype='step', linewidth=3, label=\"one band\");\n",
    "pl.hist(trace3.get_values('logr'), density=True, color=colors[2], \n",
    "        bins=20, histtype='step', linewidth=3, label=\"three bands\");\n",
    "pl.axvline(np.log(0.009), color='k', linewidth=2, label=\"true value\")\n",
    "pl.xlabel(r\"$\\mathrm{Log}(r)$\")\n",
    "pl.ylabel(\"probability\")\n",
    "pl.legend()"
   ]
  },
  {
   "cell_type": "code",
   "execution_count": null,
   "metadata": {},
   "outputs": [],
   "source": [
    "pl.hist(trace1.get_values('t0'), density=True, color=colors[0], \n",
    "        bins=20, histtype='step', linewidth=3, label=\"one band\");\n",
    "pl.hist(trace3.get_values('t0'), density=True, color=colors[2], \n",
    "        bins=20, histtype='step', linewidth=3, label=\"three bands\");\n",
    "pl.axvline(0, color='k', linewidth=2, label=\"true value\")\n",
    "pl.xlabel(r\"$t_0$\")\n",
    "pl.ylabel(\"probability\")\n",
    "pl.legend()"
   ]
  }
 ],
 "metadata": {
  "kernelspec": {
   "display_name": "Python 3",
   "language": "python",
   "name": "python3"
  },
  "language_info": {
   "codemirror_mode": {
    "name": "ipython",
    "version": 3
   },
   "file_extension": ".py",
   "mimetype": "text/x-python",
   "name": "python",
   "nbconvert_exporter": "python",
   "pygments_lexer": "ipython3",
   "version": "3.7.6"
  }
 },
 "nbformat": 4,
 "nbformat_minor": 2
}
